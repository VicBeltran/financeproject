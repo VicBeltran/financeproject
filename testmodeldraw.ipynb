{
 "cells": [
  {
   "cell_type": "code",
   "execution_count": 5,
   "metadata": {},
   "outputs": [],
   "source": [
    "import torch\n",
    "import torch.nn as nn\n",
    "device = 'cuda:0' if torch.cuda.is_available() else 'cpu'\n",
    "\n",
    "class LSTMModel(nn.Module):\n",
    "    def __init__(self, input_size, hidden_size, output_size, stacked_layers):\n",
    "        super(LSTMModel, self).__init__()\n",
    "        self.hidden_size = hidden_size\n",
    "        self.stack_layers = stacked_layers\n",
    "        self.lstm = nn.LSTM(input_size, hidden_size, num_layers= stacked_layers, batch_first=True)\n",
    "        self.inter = nn.Linear(hidden_size, hidden_size)\n",
    "        self.fc = nn.Linear(hidden_size, output_size)\n",
    "        \n",
    "    def forward(self, x):\n",
    "        batch_size = x.size(0)\n",
    "        h0 = torch.zeros(self.stack_layers, batch_size, self.hidden_size).to(device)\n",
    "        c0 = torch.zeros(self.stack_layers, batch_size, self.hidden_size).to(device)\n",
    "        out, _ = self.lstm(x, (h0, c0))\n",
    "        out = self.fc(out[:, -1, :])\n",
    "        return out"
   ]
  },
  {
   "cell_type": "code",
   "execution_count": 6,
   "metadata": {},
   "outputs": [],
   "source": [
    "x_train = torch.load('test_tensor.pt')"
   ]
  },
  {
   "cell_type": "code",
   "execution_count": 8,
   "metadata": {},
   "outputs": [
    {
     "data": {
      "text/plain": [
       "'neural_network_graph.png'"
      ]
     },
     "execution_count": 8,
     "metadata": {},
     "output_type": "execute_result"
    }
   ],
   "source": [
    "from torchviz import make_dot\n",
    "import os\n",
    "os.environ[\"PATH\"] += os.pathsep + 'D:/Program Files/Graphviz/bin'\n",
    "\n",
    "input_size = 1  # Number of input features (Open, High, Low, Close)\n",
    "hidden_size = 64  # Number of LSTM units\n",
    "output_size = 1  # Number of output units (Close)\n",
    "stacked_layers = 5\n",
    "\n",
    "model = LSTMModel(input_size, hidden_size, output_size, stacked_layers)\n",
    "model.load_state_dict(torch.load('modelo-MSFT.pt'))\n",
    "# Assuming you have a model instance named 'model'\n",
    "# Forward pass to generate the computational graph\n",
    "y = model(x_train.to(device)).to('cpu')\n",
    "\n",
    "# Visualize the computational graph\n",
    "graph = make_dot(y, params=dict(model.named_parameters()))\n",
    "graph.render('neural_network_graph', format='png')"
   ]
  }
 ],
 "metadata": {
  "interpreter": {
   "hash": "a06e30aee820ff8fe24fb428cece021c5cdfc4bd84062afc0eba853e87fef366"
  },
  "kernelspec": {
   "display_name": "Python 3.11.2 64-bit",
   "language": "python",
   "name": "python3"
  },
  "language_info": {
   "codemirror_mode": {
    "name": "ipython",
    "version": 3
   },
   "file_extension": ".py",
   "mimetype": "text/x-python",
   "name": "python",
   "nbconvert_exporter": "python",
   "pygments_lexer": "ipython3",
   "version": "3.11.2"
  },
  "orig_nbformat": 4
 },
 "nbformat": 4,
 "nbformat_minor": 2
}
